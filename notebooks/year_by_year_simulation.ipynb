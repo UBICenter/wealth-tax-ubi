{
 "cells": [
  {
   "cell_type": "markdown",
   "metadata": {},
   "source": [
    "# Year by year wealth tax simulation\n",
    "\n",
    "Simulate each year."
   ]
  },
  {
   "cell_type": "markdown",
   "metadata": {},
   "source": [
    "## Setup"
   ]
  },
  {
   "cell_type": "code",
   "execution_count": 1,
   "metadata": {},
   "outputs": [],
   "source": [
    "import pandas as pd\n",
    "import numpy as np\n",
    "import microdf as mdf"
   ]
  },
  {
   "cell_type": "code",
   "execution_count": 2,
   "metadata": {},
   "outputs": [],
   "source": [
    "wealth = pd.read_stata('../data/wealth.dta')"
   ]
  },
  {
   "cell_type": "code",
   "execution_count": 7,
   "metadata": {},
   "outputs": [],
   "source": [
    "AVOID_ELASTICITY = 8\n",
    "ANNUAL_GROWTH_CBO = 0.038"
   ]
  },
  {
   "cell_type": "code",
   "execution_count": 4,
   "metadata": {},
   "outputs": [],
   "source": [
    "WARREN_RATES = [0, 0.02, 0.03]  # 0%, 2%, 3%.\n",
    "\n",
    "WARREN_RATES_M4A = [0, 0.02, 0.06]  # 0%, 2%, 6%.\n",
    "\n",
    "WARREN_BRACKETS = [-9e99,\n",
    "                   50e6,  # First $50 million.\n",
    "                   1e9]   # Over $1 billion."
   ]
  },
  {
   "cell_type": "markdown",
   "metadata": {},
   "source": [
    "## Simulate"
   ]
  },
  {
   "cell_type": "code",
   "execution_count": 6,
   "metadata": {},
   "outputs": [
    {
     "data": {
      "text/plain": [
       "0        3.764814e+09\n",
       "1        2.278087e+09\n",
       "2        2.072777e+09\n",
       "3        1.428529e+09\n",
       "4        1.367172e+09\n",
       "             ...     \n",
       "68756    0.000000e+00\n",
       "68757    0.000000e+00\n",
       "68758    0.000000e+00\n",
       "68759    0.000000e+00\n",
       "68760    0.000000e+00\n",
       "Length: 68761, dtype: float64"
      ]
     },
     "execution_count": 6,
     "metadata": {},
     "output_type": "execute_result"
    }
   ],
   "source": [
    "mdf.tax_from_mtrs(wealth.networth, WARREN_BRACKETS, WARREN_RATES,\n",
    "                  avoidance_elasticity=AVOID_ELASTICITY)"
   ]
  },
  {
   "cell_type": "code",
   "execution_count": null,
   "metadata": {},
   "outputs": [],
   "source": []
  }
 ],
 "metadata": {
  "kernelspec": {
   "display_name": "Python 3",
   "language": "python",
   "name": "python3"
  },
  "language_info": {
   "codemirror_mode": {
    "name": "ipython",
    "version": 3
   },
   "file_extension": ".py",
   "mimetype": "text/x-python",
   "name": "python",
   "nbconvert_exporter": "python",
   "pygments_lexer": "ipython3",
   "version": "3.7.4"
  },
  "toc": {
   "base_numbering": 1,
   "nav_menu": {},
   "number_sections": true,
   "sideBar": true,
   "skip_h1_title": false,
   "title_cell": "Table of Contents",
   "title_sidebar": "Contents",
   "toc_cell": false,
   "toc_position": {},
   "toc_section_display": true,
   "toc_window_display": false
  }
 },
 "nbformat": 4,
 "nbformat_minor": 2
}
