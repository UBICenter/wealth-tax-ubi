{
 "cells": [
  {
   "cell_type": "markdown",
   "metadata": {
    "colab_type": "text",
    "id": "s8E1yENObg_f"
   },
   "source": [
    "# Tax avoidance in Warren and Sanders wealth taxes\n",
    "\n",
    "Compare the current 16% avoidance to an 8% per 1% elasticity.\n",
    "\n",
    "For example, model 24% avoidance for families with net worth over \\$1 billion who would have a 3% marginal wealth tax rate under the Warren plan, and up to 64% avoidance for families with over \\$10 billion net worth for Sanders plan.\n",
    "\n",
    "## Setup"
   ]
  },
  {
   "cell_type": "markdown",
   "metadata": {
    "colab_type": "text",
    "id": "Bh3VCTRXcTyL"
   },
   "source": [
    "TODO: Figure out how to make microdf work without installing labellines and taxcalc (optional)."
   ]
  },
  {
   "cell_type": "code",
   "execution_count": 1,
   "metadata": {
    "colab": {},
    "colab_type": "code",
    "id": "tGZupmlliqIm"
   },
   "outputs": [],
   "source": [
    "import sys"
   ]
  },
  {
   "cell_type": "code",
   "execution_count": 2,
   "metadata": {
    "colab": {
     "base_uri": "https://localhost:8080/",
     "height": 1000
    },
    "colab_type": "code",
    "id": "ScKeNya-Y7_1",
    "outputId": "9a810062-6f15-4d53-ff47-920bd6fffa6d"
   },
   "outputs": [],
   "source": [
    "if False:\n",
    "    !pip install matplotlib-label-lines\n",
    "    if 'microdf' not in sys.modules:\n",
    "        !pip install git+git://github.com/maxghenis/microdf.git\n",
    "    if 'taxcalc' not in sys.modules:\n",
    "        !pip install git+git://github.com/PSLmodels/Tax-Calculator.git"
   ]
  },
  {
   "cell_type": "code",
   "execution_count": 3,
   "metadata": {
    "colab": {},
    "colab_type": "code",
    "id": "Os_DIXr-cVrO"
   },
   "outputs": [],
   "source": [
    "import pandas as pd\n",
    "import numpy as np\n",
    "import microdf as mdf"
   ]
  },
  {
   "cell_type": "markdown",
   "metadata": {
    "colab_type": "text",
    "id": "dZQrV2nmdk6u"
   },
   "source": [
    "## Load data\n",
    "\n",
    "From Saez/Zucman wealth tax calculator: https://github.com/BITSS/opa-wealthtax"
   ]
  },
  {
   "cell_type": "code",
   "execution_count": 4,
   "metadata": {
    "colab": {},
    "colab_type": "code",
    "id": "fAcINzfEbupb"
   },
   "outputs": [],
   "source": [
    "wealth = pd.read_stata('https://github.com/BITSS/opa-wealthtax/blob/master/analysis_data/wealth.dta?raw=true',\n",
    "                       columns=['networth', 'weight'])  # Don't need data source."
   ]
  },
  {
   "cell_type": "markdown",
   "metadata": {
    "colab_type": "text",
    "id": "y0HZGtBFuC01"
   },
   "source": [
    "## Descriptive analysis\n",
    "\n",
    "Total net worth"
   ]
  },
  {
   "cell_type": "code",
   "execution_count": 5,
   "metadata": {
    "colab": {
     "base_uri": "https://localhost:8080/",
     "height": 35
    },
    "colab_type": "code",
    "id": "_5pnuouDuF5l",
    "outputId": "d685e225-4c87-4cbb-ee41-2cd5a2086a9b"
   },
   "outputs": [
    {
     "data": {
      "text/plain": [
       "93.74638072480977"
      ]
     },
     "execution_count": 5,
     "metadata": {},
     "output_type": "execute_result"
    }
   ],
   "source": [
    "total_nw = mdf.weighted_sum(wealth, 'networth', 'weight')\n",
    "total_nw / 1e12"
   ]
  },
  {
   "cell_type": "code",
   "execution_count": 6,
   "metadata": {
    "colab": {
     "base_uri": "https://localhost:8080/",
     "height": 35
    },
    "colab_type": "code",
    "id": "0kgXeff5uLMU",
    "outputId": "c8578a6a-8301-445d-9982-cd6b7c80dd5c"
   },
   "outputs": [
    {
     "data": {
      "text/plain": [
       "156.43578"
      ]
     },
     "execution_count": 6,
     "metadata": {},
     "output_type": "execute_result"
    }
   ],
   "source": [
    "total_families = wealth.weight.sum()\n",
    "total_families / 1e6"
   ]
  },
  {
   "cell_type": "markdown",
   "metadata": {
    "colab_type": "text",
    "id": "FBLy8Yo2hGtk"
   },
   "source": [
    "### Warren wealth tax\n",
    "\n",
    "2% above \\$50 million, 3% above \\$1 billion.\n",
    "\n",
    "16% avoidance/evasion rate per Saez and Zucman, which is 2% * elasticity of 8: http://wealthtaxsimulator.org/analysis/"
   ]
  },
  {
   "cell_type": "code",
   "execution_count": 7,
   "metadata": {
    "colab": {},
    "colab_type": "code",
    "id": "bDMrFJr3iq5n"
   },
   "outputs": [],
   "source": [
    "AVOID_ELASTICITY = 8\n",
    "CONST_AVOID_RATE = 0.16  # Originally computed as 8 * 0.02."
   ]
  },
  {
   "cell_type": "code",
   "execution_count": 8,
   "metadata": {
    "colab": {},
    "colab_type": "code",
    "id": "a5T2VGahu9_v"
   },
   "outputs": [],
   "source": [
    "WARREN_RATES = [0, 0.02, 0.03]  # 0%, 2%, 3%.\n",
    "\n",
    "WARREN_RATES_M4A = [0, 0.02, 0.06]  # 0%, 2%, 6%.\n",
    "\n",
    "WARREN_BRACKETS = [-9e99,\n",
    "                   50e6,  # First $50 million.\n",
    "                   1e9]   # Over $1 billion."
   ]
  },
  {
   "cell_type": "code",
   "execution_count": 9,
   "metadata": {
    "colab": {
     "base_uri": "https://localhost:8080/",
     "height": 35
    },
    "colab_type": "code",
    "id": "QaEdk7NtbV6l",
    "outputId": "9ef5c817-8258-4282-af00-a23e20c9985d"
   },
   "outputs": [
    {
     "data": {
      "text/plain": [
       "74953160720.27696"
      ]
     },
     "execution_count": 9,
     "metadata": {},
     "output_type": "execute_result"
    }
   ],
   "source": [
    "mdf.tax_from_mtrs(wealth.networth, WARREN_BRACKETS, WARREN_RATES,\n",
    "                  avoidance_rate=CONST_AVOID_RATE).sum()"
   ]
  },
  {
   "cell_type": "code",
   "execution_count": 10,
   "metadata": {
    "colab": {
     "base_uri": "https://localhost:8080/",
     "height": 35
    },
    "colab_type": "code",
    "id": "dW7X4h3Sl74E",
    "outputId": "35154166-250e-41a4-e673-23995c404748"
   },
   "outputs": [
    {
     "data": {
      "text/plain": [
       "70321713262.98929"
      ]
     },
     "execution_count": 10,
     "metadata": {},
     "output_type": "execute_result"
    }
   ],
   "source": [
    "mdf.tax_from_mtrs(wealth.networth, WARREN_BRACKETS, WARREN_RATES,\n",
    "                  avoidance_elasticity=AVOID_ELASTICITY).sum()"
   ]
  },
  {
   "cell_type": "code",
   "execution_count": 11,
   "metadata": {
    "colab": {},
    "colab_type": "code",
    "id": "gdCt3RQEMAud"
   },
   "outputs": [],
   "source": [
    "def warren_tax(wealth, **kwargs):\n",
    "    return mdf.tax_from_mtrs(wealth, WARREN_BRACKETS, WARREN_RATES, **kwargs)"
   ]
  },
  {
   "cell_type": "markdown",
   "metadata": {
    "colab_type": "text",
    "id": "RXUjb2n_yd3r"
   },
   "source": [
    "### Current approach\n",
    "\n",
    "16% constant avoidance."
   ]
  },
  {
   "cell_type": "code",
   "execution_count": 12,
   "metadata": {
    "colab": {},
    "colab_type": "code",
    "id": "IkPSzpcZzvo_"
   },
   "outputs": [],
   "source": [
    "wealth['warren_tax'] = warren_tax(wealth.networth,\n",
    "                                  avoidance_rate=CONST_AVOID_RATE)\n",
    "wealth['networth_warren'] = wealth.networth - wealth.warren_tax"
   ]
  },
  {
   "cell_type": "code",
   "execution_count": 13,
   "metadata": {
    "colab": {
     "base_uri": "https://localhost:8080/",
     "height": 35
    },
    "colab_type": "code",
    "id": "Xo_tzCMGyhti",
    "outputId": "79c8b156-d6de-4137-f5e9-d64473f80d73"
   },
   "outputs": [
    {
     "data": {
      "text/plain": [
       "199.15986065067187"
      ]
     },
     "execution_count": 13,
     "metadata": {},
     "output_type": "execute_result"
    }
   ],
   "source": [
    "warren_revenue = (mdf.weighted_sum(wealth, 'networth', 'weight') - \n",
    "                  mdf.weighted_sum(wealth, 'networth_warren', 'weight')).sum()\n",
    "warren_revenue / 1e9"
   ]
  },
  {
   "cell_type": "markdown",
   "metadata": {
    "colab_type": "text",
    "id": "5Z1SaqUvHajN"
   },
   "source": [
    "Ten-year revenue"
   ]
  },
  {
   "cell_type": "code",
   "execution_count": 14,
   "metadata": {
    "colab": {},
    "colab_type": "code",
    "id": "8Fl8HhlGJBAI"
   },
   "outputs": [],
   "source": [
    "def total_wealth_tax_revenue(wealth, weight, brackets, rates, growth, **kwargs):\n",
    "    # **kwargs: Pass avoidance_rate or avoidance_elasticity.\n",
    "    tax = mdf.tax_from_mtrs(wealth, brackets, rates, **kwargs)\n",
    "    rev = (tax * weight).sum()\n",
    "    mult_10y = np.power(1 + growth, np.arange(0, 10)).sum()\n",
    "    return rev * mult_10y"
   ]
  },
  {
   "cell_type": "code",
   "execution_count": 15,
   "metadata": {
    "colab": {},
    "colab_type": "code",
    "id": "Nf5blLpxHcfA"
   },
   "outputs": [],
   "source": [
    "ANNUAL_GROWTH_WARREN = 0.055\n",
    "ANNUAL_GROWTH_CBO = 0.038"
   ]
  },
  {
   "cell_type": "code",
   "execution_count": 16,
   "metadata": {
    "colab": {},
    "colab_type": "code",
    "id": "Am2ZOaJEBNLc"
   },
   "outputs": [],
   "source": [
    "def cartesian_product(d):\n",
    "    index = pd.MultiIndex.from_product(d.values(), names=d.keys())\n",
    "    return pd.DataFrame(index=index).reset_index()"
   ]
  },
  {
   "cell_type": "code",
   "execution_count": 17,
   "metadata": {
    "colab": {},
    "colab_type": "code",
    "id": "QR1_UOzY_zRh"
   },
   "outputs": [],
   "source": [
    "rev_10y = cartesian_product({'growth': [ANNUAL_GROWTH_WARREN, ANNUAL_GROWTH_CBO],\n",
    "                             'avoidance': ['rate=0.15', 'elasticity=8'],\n",
    "                             'plan': ['Warren', 'Warren M4A']})"
   ]
  },
  {
   "cell_type": "code",
   "execution_count": 18,
   "metadata": {
    "colab": {},
    "colab_type": "code",
    "id": "cVM2DX-oBic1"
   },
   "outputs": [],
   "source": [
    "def wealth_tax_rev_param(growth, avoidance, plan):\n",
    "    if avoidance == 'rate=0.15':\n",
    "        if plan == 'Warren M4A':\n",
    "            return total_wealth_tax_revenue(\n",
    "                wealth.networth, wealth.weight, WARREN_BRACKETS,\n",
    "                WARREN_RATES_M4A, growth, avoidance_rate=0.15)\n",
    "        else:\n",
    "            return total_wealth_tax_revenue(\n",
    "                wealth.networth, wealth.weight, WARREN_BRACKETS,\n",
    "                WARREN_RATES, growth, avoidance_rate=0.15)\n",
    "    else:\n",
    "        if plan == 'Warren M4A':\n",
    "            return total_wealth_tax_revenue(\n",
    "                wealth.networth, wealth.weight, WARREN_BRACKETS,\n",
    "                WARREN_RATES_M4A, growth, avoidance_elasticity=8)\n",
    "        else:\n",
    "            return total_wealth_tax_revenue(\n",
    "                wealth.networth, wealth.weight, WARREN_BRACKETS,\n",
    "                WARREN_RATES, growth, avoidance_elasticity=8)"
   ]
  },
  {
   "cell_type": "code",
   "execution_count": 19,
   "metadata": {
    "colab": {},
    "colab_type": "code",
    "id": "Y-cARi6SDofB"
   },
   "outputs": [],
   "source": [
    "rev_10y['rev_10y_t'] = rev_10y.apply(lambda row: wealth_tax_rev_param(\n",
    "    row.growth, row.avoidance, row.plan), axis=1) / 1e12"
   ]
  },
  {
   "cell_type": "code",
   "execution_count": 20,
   "metadata": {
    "colab": {
     "base_uri": "https://localhost:8080/",
     "height": 297
    },
    "colab_type": "code",
    "id": "tiS6lXidGQQ6",
    "outputId": "aa87edc2-0eae-442f-b1f3-60d6e3cddf05"
   },
   "outputs": [
    {
     "data": {
      "text/html": [
       "<div>\n",
       "<style scoped>\n",
       "    .dataframe tbody tr th:only-of-type {\n",
       "        vertical-align: middle;\n",
       "    }\n",
       "\n",
       "    .dataframe tbody tr th {\n",
       "        vertical-align: top;\n",
       "    }\n",
       "\n",
       "    .dataframe thead th {\n",
       "        text-align: right;\n",
       "    }\n",
       "</style>\n",
       "<table border=\"1\" class=\"dataframe\">\n",
       "  <thead>\n",
       "    <tr style=\"text-align: right;\">\n",
       "      <th></th>\n",
       "      <th>growth</th>\n",
       "      <th>avoidance</th>\n",
       "      <th>plan</th>\n",
       "      <th>rev_10y_t</th>\n",
       "    </tr>\n",
       "  </thead>\n",
       "  <tbody>\n",
       "    <tr>\n",
       "      <td>0</td>\n",
       "      <td>0.055</td>\n",
       "      <td>rate=0.15</td>\n",
       "      <td>Warren</td>\n",
       "      <td>2.607153</td>\n",
       "    </tr>\n",
       "    <tr>\n",
       "      <td>1</td>\n",
       "      <td>0.055</td>\n",
       "      <td>rate=0.15</td>\n",
       "      <td>Warren M4A</td>\n",
       "      <td>3.457866</td>\n",
       "    </tr>\n",
       "    <tr>\n",
       "      <td>2</td>\n",
       "      <td>0.055</td>\n",
       "      <td>elasticity=8</td>\n",
       "      <td>Warren</td>\n",
       "      <td>2.516069</td>\n",
       "    </tr>\n",
       "    <tr>\n",
       "      <td>3</td>\n",
       "      <td>0.055</td>\n",
       "      <td>elasticity=8</td>\n",
       "      <td>Warren M4A</td>\n",
       "      <td>2.811515</td>\n",
       "    </tr>\n",
       "    <tr>\n",
       "      <td>4</td>\n",
       "      <td>0.038</td>\n",
       "      <td>rate=0.15</td>\n",
       "      <td>Warren</td>\n",
       "      <td>2.408710</td>\n",
       "    </tr>\n",
       "    <tr>\n",
       "      <td>5</td>\n",
       "      <td>0.038</td>\n",
       "      <td>rate=0.15</td>\n",
       "      <td>Warren M4A</td>\n",
       "      <td>3.194670</td>\n",
       "    </tr>\n",
       "    <tr>\n",
       "      <td>6</td>\n",
       "      <td>0.038</td>\n",
       "      <td>elasticity=8</td>\n",
       "      <td>Warren</td>\n",
       "      <td>2.324558</td>\n",
       "    </tr>\n",
       "    <tr>\n",
       "      <td>7</td>\n",
       "      <td>0.038</td>\n",
       "      <td>elasticity=8</td>\n",
       "      <td>Warren M4A</td>\n",
       "      <td>2.597517</td>\n",
       "    </tr>\n",
       "  </tbody>\n",
       "</table>\n",
       "</div>"
      ],
      "text/plain": [
       "   growth     avoidance        plan  rev_10y_t\n",
       "0   0.055     rate=0.15      Warren   2.607153\n",
       "1   0.055     rate=0.15  Warren M4A   3.457866\n",
       "2   0.055  elasticity=8      Warren   2.516069\n",
       "3   0.055  elasticity=8  Warren M4A   2.811515\n",
       "4   0.038     rate=0.15      Warren   2.408710\n",
       "5   0.038     rate=0.15  Warren M4A   3.194670\n",
       "6   0.038  elasticity=8      Warren   2.324558\n",
       "7   0.038  elasticity=8  Warren M4A   2.597517"
      ]
     },
     "execution_count": 20,
     "metadata": {},
     "output_type": "execute_result"
    }
   ],
   "source": [
    "rev_10y"
   ]
  },
  {
   "cell_type": "code",
   "execution_count": 21,
   "metadata": {
    "colab": {
     "base_uri": "https://localhost:8080/",
     "height": 173
    },
    "colab_type": "code",
    "id": "_YelP2UDJet5",
    "outputId": "b2665198-fc40-4949-fe54-8b78a5ffc9f5"
   },
   "outputs": [
    {
     "data": {
      "text/html": [
       "<div>\n",
       "<style scoped>\n",
       "    .dataframe tbody tr th:only-of-type {\n",
       "        vertical-align: middle;\n",
       "    }\n",
       "\n",
       "    .dataframe tbody tr th {\n",
       "        vertical-align: top;\n",
       "    }\n",
       "\n",
       "    .dataframe thead tr th {\n",
       "        text-align: left;\n",
       "    }\n",
       "\n",
       "    .dataframe thead tr:last-of-type th {\n",
       "        text-align: right;\n",
       "    }\n",
       "</style>\n",
       "<table border=\"1\" class=\"dataframe\">\n",
       "  <thead>\n",
       "    <tr>\n",
       "      <th>growth</th>\n",
       "      <th colspan=\"2\" halign=\"left\">0.038</th>\n",
       "      <th colspan=\"2\" halign=\"left\">0.055</th>\n",
       "    </tr>\n",
       "    <tr>\n",
       "      <th>avoidance</th>\n",
       "      <th>elasticity=8</th>\n",
       "      <th>rate=0.15</th>\n",
       "      <th>elasticity=8</th>\n",
       "      <th>rate=0.15</th>\n",
       "    </tr>\n",
       "    <tr>\n",
       "      <th>plan</th>\n",
       "      <th></th>\n",
       "      <th></th>\n",
       "      <th></th>\n",
       "      <th></th>\n",
       "    </tr>\n",
       "  </thead>\n",
       "  <tbody>\n",
       "    <tr>\n",
       "      <td>Warren</td>\n",
       "      <td>2.324558</td>\n",
       "      <td>2.40871</td>\n",
       "      <td>2.516069</td>\n",
       "      <td>2.607153</td>\n",
       "    </tr>\n",
       "    <tr>\n",
       "      <td>Warren M4A</td>\n",
       "      <td>2.597517</td>\n",
       "      <td>3.19467</td>\n",
       "      <td>2.811515</td>\n",
       "      <td>3.457866</td>\n",
       "    </tr>\n",
       "  </tbody>\n",
       "</table>\n",
       "</div>"
      ],
      "text/plain": [
       "growth            0.038                  0.055          \n",
       "avoidance  elasticity=8 rate=0.15 elasticity=8 rate=0.15\n",
       "plan                                                    \n",
       "Warren         2.324558   2.40871     2.516069  2.607153\n",
       "Warren M4A     2.597517   3.19467     2.811515  3.457866"
      ]
     },
     "execution_count": 21,
     "metadata": {},
     "output_type": "execute_result"
    }
   ],
   "source": [
    "rev_10y_wide = rev_10y.pivot_table('rev_10y_t', 'plan', ['growth', 'avoidance'])\n",
    "rev_10y_wide"
   ]
  },
  {
   "cell_type": "code",
   "execution_count": 23,
   "metadata": {},
   "outputs": [],
   "source": [
    "rev_10y_wide.to_csv('~/Downloads/rev_wide.csv')"
   ]
  },
  {
   "cell_type": "code",
   "execution_count": 22,
   "metadata": {
    "colab": {},
    "colab_type": "code",
    "id": "mAeEzt9cHV_S"
   },
   "outputs": [
    {
     "ename": "ModuleNotFoundError",
     "evalue": "No module named 'google'",
     "output_type": "error",
     "traceback": [
      "\u001b[0;31m---------------------------------------------------------------------------\u001b[0m",
      "\u001b[0;31mModuleNotFoundError\u001b[0m                       Traceback (most recent call last)",
      "\u001b[0;32m<ipython-input-22-e1b87a3fbac1>\u001b[0m in \u001b[0;36m<module>\u001b[0;34m\u001b[0m\n\u001b[0;32m----> 1\u001b[0;31m \u001b[0;32mfrom\u001b[0m \u001b[0mgoogle\u001b[0m\u001b[0;34m.\u001b[0m\u001b[0mcolab\u001b[0m \u001b[0;32mimport\u001b[0m \u001b[0mfiles\u001b[0m\u001b[0;34m\u001b[0m\u001b[0;34m\u001b[0m\u001b[0m\n\u001b[0m\u001b[1;32m      2\u001b[0m \u001b[0mrev_10y\u001b[0m\u001b[0;34m.\u001b[0m\u001b[0mto_csv\u001b[0m\u001b[0;34m(\u001b[0m\u001b[0;34m'df.csv'\u001b[0m\u001b[0;34m)\u001b[0m\u001b[0;34m\u001b[0m\u001b[0;34m\u001b[0m\u001b[0m\n\u001b[1;32m      3\u001b[0m \u001b[0mfiles\u001b[0m\u001b[0;34m.\u001b[0m\u001b[0mdownload\u001b[0m\u001b[0;34m(\u001b[0m\u001b[0;34m'df.csv'\u001b[0m\u001b[0;34m)\u001b[0m\u001b[0;34m\u001b[0m\u001b[0;34m\u001b[0m\u001b[0m\n",
      "\u001b[0;31mModuleNotFoundError\u001b[0m: No module named 'google'"
     ]
    }
   ],
   "source": [
    "from google.colab import files\n",
    "files.download('df.csv')"
   ]
  },
  {
   "cell_type": "code",
   "execution_count": null,
   "metadata": {
    "colab": {},
    "colab_type": "code",
    "id": "G-xmRHxVJvsG"
   },
   "outputs": [],
   "source": [
    "rev_10y_wide.to_csv('df.csv')\n",
    "files.download('df.csv')"
   ]
  },
  {
   "cell_type": "code",
   "execution_count": null,
   "metadata": {
    "colab": {},
    "colab_type": "code",
    "id": "kSKMiP1pHmmI"
   },
   "outputs": [],
   "source": [
    "warren_10y_mult = np.power(1 + ANNUAL_GROWTH_WARREN, np.arange(0, 10)).sum()\n",
    "cbo_10y_mult = np.power(1 + ANNUAL_GROWTH_CBO, np.arange(0, 10)).sum()"
   ]
  },
  {
   "cell_type": "code",
   "execution_count": null,
   "metadata": {
    "colab": {
     "base_uri": "https://localhost:8080/",
     "height": 35
    },
    "colab_type": "code",
    "id": "J6j1TRVW7wdT",
    "outputId": "8a762baf-61ee-4c78-ffdd-6f5f10c039c3"
   },
   "outputs": [],
   "source": [
    "warren_10y_mult"
   ]
  },
  {
   "cell_type": "code",
   "execution_count": null,
   "metadata": {
    "colab": {
     "base_uri": "https://localhost:8080/",
     "height": 35
    },
    "colab_type": "code",
    "id": "k1dXPh5vHzHN",
    "outputId": "cd2bf7f0-4a12-44f9-adca-87b3cfe8e87e"
   },
   "outputs": [],
   "source": [
    "warren_revenue * warren_10y_mult / 1e9"
   ]
  },
  {
   "cell_type": "code",
   "execution_count": null,
   "metadata": {
    "colab": {
     "base_uri": "https://localhost:8080/",
     "height": 35
    },
    "colab_type": "code",
    "id": "c7oG27gvH2wr",
    "outputId": "e73a10ec-e41d-47d6-d3f8-a4febc36bff1"
   },
   "outputs": [],
   "source": [
    "warren_revenue * cbo_10y_mult / 1e9"
   ]
  },
  {
   "cell_type": "markdown",
   "metadata": {
    "colab_type": "text",
    "id": "-6r7JOj3z2e6"
   },
   "source": [
    "### Adjusted approach"
   ]
  },
  {
   "cell_type": "code",
   "execution_count": null,
   "metadata": {
    "colab": {},
    "colab_type": "code",
    "id": "kwDNQPRauTJA"
   },
   "outputs": [],
   "source": [
    "wealth['warren_tax2'] = warren_tax(wealth.networth,\n",
    "                                   avoidance_elasticity=AVOID_ELASTICITY)\n",
    "wealth['networth_warren2'] = wealth.networth - wealth.warren_tax2"
   ]
  },
  {
   "cell_type": "code",
   "execution_count": null,
   "metadata": {
    "colab": {
     "base_uri": "https://localhost:8080/",
     "height": 35
    },
    "colab_type": "code",
    "id": "ZpWZpEBOuse7",
    "outputId": "4cf37a7a-5ea8-46d2-c5a1-5e7e497cc557"
   },
   "outputs": [],
   "source": [
    "warren_revenue2 = (mdf.weighted_sum(wealth, 'networth', 'weight') - \n",
    "                   mdf.weighted_sum(wealth, 'networth_warren2', 'weight')).sum()\n",
    "warren_revenue2 / 1e9"
   ]
  },
  {
   "cell_type": "code",
   "execution_count": null,
   "metadata": {
    "colab": {
     "base_uri": "https://localhost:8080/",
     "height": 35
    },
    "colab_type": "code",
    "id": "6pZ2-udw1o8G",
    "outputId": "36c08d2b-4996-4a59-ba13-d69403f9dbc4"
   },
   "outputs": [],
   "source": [
    "warren_revenue2 / warren_revenue"
   ]
  },
  {
   "cell_type": "code",
   "execution_count": null,
   "metadata": {
    "colab": {
     "base_uri": "https://localhost:8080/",
     "height": 35
    },
    "colab_type": "code",
    "id": "qHGXJykiH6yw",
    "outputId": "6accbcc9-8a0d-4c58-ed98-0a82a020e8d9"
   },
   "outputs": [],
   "source": [
    "warren_revenue2 * warren_10y_mult / 1e9"
   ]
  },
  {
   "cell_type": "code",
   "execution_count": null,
   "metadata": {
    "colab": {
     "base_uri": "https://localhost:8080/",
     "height": 35
    },
    "colab_type": "code",
    "id": "FzjsEAGmH-nv",
    "outputId": "6f2a4efb-a419-477b-e543-1847bd7ddb35"
   },
   "outputs": [],
   "source": [
    "warren_revenue2 * cbo_10y_mult / 1e9"
   ]
  },
  {
   "cell_type": "markdown",
   "metadata": {
    "colab_type": "text",
    "id": "kxwIk5Ul1we4"
   },
   "source": [
    "## Sanders wealth tax"
   ]
  },
  {
   "cell_type": "code",
   "execution_count": null,
   "metadata": {
    "colab": {},
    "colab_type": "code",
    "id": "D0NRWY169WX_"
   },
   "outputs": [],
   "source": [
    "SANDERS_RATES =    [    0, 0.01, 0.02,  0.03,  0.04, 0.05,  0.06, 0.07, 0.08]\n",
    "SANDERS_BRACKETS = [-9e99, 32e6, 50e6, 250e6, 500e6,  1e9, 2.5e9,  5e9, 10e9]"
   ]
  },
  {
   "cell_type": "code",
   "execution_count": null,
   "metadata": {
    "colab": {},
    "colab_type": "code",
    "id": "39cLeg9P_O-H"
   },
   "outputs": [],
   "source": [
    "def sanders_tax(wealth, **kwargs):\n",
    "    return mdf.tax_from_mtrs(wealth, SANDERS_BRACKETS, SANDERS_RATES, **kwargs)"
   ]
  },
  {
   "cell_type": "markdown",
   "metadata": {
    "colab_type": "text",
    "id": "q6MG5xQz-rKi"
   },
   "source": [
    "### Current approach\n",
    "\n",
    "16% constant avoidance."
   ]
  },
  {
   "cell_type": "code",
   "execution_count": null,
   "metadata": {
    "colab": {},
    "colab_type": "code",
    "id": "QI6dxf9r-rKt"
   },
   "outputs": [],
   "source": [
    "wealth['sanders_tax'] = sanders_tax(wealth.networth,\n",
    "                                    avoidance_rate=CONST_AVOID_RATE)\n",
    "wealth['networth_sanders'] = wealth.networth - wealth.sanders_tax"
   ]
  },
  {
   "cell_type": "code",
   "execution_count": null,
   "metadata": {
    "colab": {
     "base_uri": "https://localhost:8080/",
     "height": 35
    },
    "colab_type": "code",
    "id": "FMP-nm-e-rKy",
    "outputId": "373d6579-7097-4382-e026-cf2e3900259a"
   },
   "outputs": [],
   "source": [
    "sanders_revenue = (mdf.weighted_sum(wealth, 'networth', 'weight') - \n",
    "                   mdf.weighted_sum(wealth, 'networth_sanders', 'weight')).sum()\n",
    "sanders_revenue / 1e9"
   ]
  },
  {
   "cell_type": "markdown",
   "metadata": {
    "colab_type": "text",
    "id": "Zi5TcyAM-rK6"
   },
   "source": [
    "### Adjusted approach"
   ]
  },
  {
   "cell_type": "code",
   "execution_count": null,
   "metadata": {
    "colab": {},
    "colab_type": "code",
    "id": "_cePO2YA-rLA"
   },
   "outputs": [],
   "source": [
    "wealth['sanders_tax2'] = sanders_tax(wealth.networth,\n",
    "                                     avoidance_elasticity=AVOID_ELASTICITY)\n",
    "wealth['networth_sanders2'] = wealth.networth - wealth.sanders_tax2"
   ]
  },
  {
   "cell_type": "code",
   "execution_count": null,
   "metadata": {
    "colab": {
     "base_uri": "https://localhost:8080/",
     "height": 35
    },
    "colab_type": "code",
    "id": "LqBxzSno-rLF",
    "outputId": "c92d543e-2cba-4aaa-e31d-2a64b243a68f"
   },
   "outputs": [],
   "source": [
    "sanders_revenue2 = (\n",
    "    mdf.weighted_sum(wealth, 'networth', 'weight') - \n",
    "    mdf.weighted_sum(wealth, 'networth_sanders2', 'weight')).sum()\n",
    "sanders_revenue2 / 1e9"
   ]
  },
  {
   "cell_type": "code",
   "execution_count": null,
   "metadata": {
    "colab": {
     "base_uri": "https://localhost:8080/",
     "height": 35
    },
    "colab_type": "code",
    "id": "UclOcbP4-rLI",
    "outputId": "43afd930-2782-4dfc-d421-cbd20a41328e"
   },
   "outputs": [],
   "source": [
    "sanders_revenue2 / sanders_revenue"
   ]
  }
 ],
 "metadata": {
  "colab": {
   "name": "wealth_tax_avoidance_rate_vs_elasticity.ipynb",
   "provenance": []
  },
  "kernelspec": {
   "display_name": "Python 3",
   "language": "python",
   "name": "python3"
  },
  "language_info": {
   "codemirror_mode": {
    "name": "ipython",
    "version": 3
   },
   "file_extension": ".py",
   "mimetype": "text/x-python",
   "name": "python",
   "nbconvert_exporter": "python",
   "pygments_lexer": "ipython3",
   "version": "3.7.4"
  },
  "toc": {
   "base_numbering": 1,
   "nav_menu": {},
   "number_sections": true,
   "sideBar": true,
   "skip_h1_title": false,
   "title_cell": "Table of Contents",
   "title_sidebar": "Contents",
   "toc_cell": false,
   "toc_position": {},
   "toc_section_display": true,
   "toc_window_display": false
  }
 },
 "nbformat": 4,
 "nbformat_minor": 1
}
